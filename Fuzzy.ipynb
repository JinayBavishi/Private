{
 "cells": [
  {
   "cell_type": "code",
   "execution_count": 1,
   "id": "c3bac720-afee-4786-8d67-801cee9b0265",
   "metadata": {},
   "outputs": [
    {
     "name": "stdout",
     "output_type": "stream",
     "text": [
      "Requirement already satisfied: scikit-fuzzy in c:\\users\\user\\appdata\\local\\packages\\pythonsoftwarefoundation.python.3.11_qbz5n2kfra8p0\\localcache\\local-packages\\python311\\site-packages (0.4.2)\n",
      "Requirement already satisfied: numpy>=1.6.0 in c:\\users\\user\\appdata\\local\\packages\\pythonsoftwarefoundation.python.3.11_qbz5n2kfra8p0\\localcache\\local-packages\\python311\\site-packages (from scikit-fuzzy) (1.26.0)\n",
      "Requirement already satisfied: scipy>=0.9.0 in c:\\users\\user\\appdata\\local\\packages\\pythonsoftwarefoundation.python.3.11_qbz5n2kfra8p0\\localcache\\local-packages\\python311\\site-packages (from scikit-fuzzy) (1.11.3)\n",
      "Requirement already satisfied: networkx>=1.9.0 in c:\\users\\user\\appdata\\local\\packages\\pythonsoftwarefoundation.python.3.11_qbz5n2kfra8p0\\localcache\\local-packages\\python311\\site-packages (from scikit-fuzzy) (3.1)\n"
     ]
    }
   ],
   "source": [
    "!pip install scikit-fuzzy"
   ]
  },
  {
   "cell_type": "code",
   "execution_count": 2,
   "id": "196be039-2e75-486c-83a8-9ba081ee02f9",
   "metadata": {},
   "outputs": [
    {
     "name": "stdout",
     "output_type": "stream",
     "text": [
      "(array([0, 1, 2, 3]), array([0.2, 0.3, 0.4, 1. ])) (array([0, 1, 2, 3]), array([0.1, 0.2, 0.2, 0.5])) [0.28, 0.44, 0.52, 1.0] [0.020000000000000004, 0.06, 0.08000000000000002, 0.5] [0.30000000000000004, 0.5, 0.6000000000000001, 1] [0.1, 0.09999999999999998, 0.2, 0] (array([0, 1, 2, 3]), array([0.2, 0.3, 0.4, 0. ])) (array([0, 1, 2, 3]), array([0.1, 0.2, 0.2, 0.5]))\n"
     ]
    }
   ],
   "source": [
    "import skfuzzy as fuzz\n",
    "import numpy as np\n",
    "x = np.array([0, 1, 2, 3])\n",
    "A = [0.2,0.3,0.4,0.5]\n",
    "B = [0.1,0.2,0.2,1]\n",
    "fuzzy_union = fuzz.fuzzy_or(x, A, x, B)\n",
    "fuzzy_inter = fuzz.fuzzy_and(x, A, x, B)\n",
    "fuzzy_compA = [1 - A_value for A_value in A]\n",
    "fuzzy_compB = [1 - B_value for B_value in B]\n",
    "algebraic_sum = [A + B - A * B for A, B in zip(A, B)]\n",
    "algebraic_prod = [A * B for A, B in zip(A, B)]\n",
    "bounded_sum = [min(A + B, 1) for A, B in zip(A, B)]\n",
    "bounded_difference = [max(A - B, 0) for A, B in zip(A, B)]\n",
    "fuzzy_AB = fuzz.fuzzy_and(x, A, x, fuzzy_compB)\n",
    "fuzzy_BA = fuzz.fuzzy_and(x, B, x, fuzzy_compA)\n",
    "print(fuzzy_union,fuzzy_inter,algebraic_sum,algebraic_prod,bounded_sum,bounded_difference,fuzzy_AB,fuzzy_BA)\n"
   ]
  }
 ],
 "metadata": {
  "kernelspec": {
   "display_name": "Python 3 (ipykernel)",
   "language": "python",
   "name": "python3"
  },
  "language_info": {
   "codemirror_mode": {
    "name": "ipython",
    "version": 3
   },
   "file_extension": ".py",
   "mimetype": "text/x-python",
   "name": "python",
   "nbconvert_exporter": "python",
   "pygments_lexer": "ipython3",
   "version": "3.11.5"
  }
 },
 "nbformat": 4,
 "nbformat_minor": 5
}

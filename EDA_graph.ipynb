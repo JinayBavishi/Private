{
 "cells": [
  {
   "cell_type": "code",
   "execution_count": null,
   "id": "be433442-c8c8-4cc0-b835-5fbc3f439e60",
   "metadata": {},
   "outputs": [],
   "source": []
  },
  {
   "cell_type": "code",
   "execution_count": null,
   "id": "8b0fb64c-8a4f-4710-9f21-965250cfc5d9",
   "metadata": {},
   "outputs": [],
   "source": [
    "import networkx as nx\n",
    "import matplotlib.pyplot as plt\n",
    "graph = nx.Graph()\n",
    "graph.add_nodes_from([1, 2, 3, 4, 5])\n",
    "graph.add_edges_from([(1, 2), (2, 5), (3, 4), (4, 5), (5, 3)])\n",
    "nx.draw(graph, with_labels=True)\n",
    "plt.show()\n",
    "degree_centralities = nx.degree_centrality(graph)\n",
    "for node, centrality in degree_centralities.items():\n",
    "    print(f\"Node {node}: Degree Centrality = {centrality}\")\n"
   ]
  }
 ],
 "metadata": {
  "kernelspec": {
   "display_name": "Python 3 (ipykernel)",
   "language": "python",
   "name": "python3"
  },
  "language_info": {
   "codemirror_mode": {
    "name": "ipython",
    "version": 3
   },
   "file_extension": ".py",
   "mimetype": "text/x-python",
   "name": "python",
   "nbconvert_exporter": "python",
   "pygments_lexer": "ipython3",
   "version": "3.11.5"
  }
 },
 "nbformat": 4,
 "nbformat_minor": 5
}
